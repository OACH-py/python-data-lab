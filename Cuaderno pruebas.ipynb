{
 "cells": [
  {
   "cell_type": "markdown",
   "id": "e3138157",
   "metadata": {},
   "source": [
    "# Importamos las librerias"
   ]
  },
  {
   "cell_type": "code",
   "execution_count": null,
   "id": "cbe3e3e4",
   "metadata": {},
   "outputs": [],
   "source": [
    "import pandas as pd\n",
    "import numpy as np\n",
    "import matplotlib as plt"
   ]
  },
  {
   "cell_type": "markdown",
   "id": "5b2cf95c",
   "metadata": {},
   "source": [
    "## Importamos el csv"
   ]
  },
  {
   "cell_type": "code",
   "execution_count": null,
   "id": "b2b85d19",
   "metadata": {},
   "outputs": [],
   "source": [
    "registro = pd.read_csv('Registro.csv')\n"
   ]
  },
  {
   "cell_type": "markdown",
   "id": "c55621ee",
   "metadata": {},
   "source": [
    "## Exploramos datos dentro de csv"
   ]
  },
  {
   "cell_type": "code",
   "execution_count": null,
   "id": "4e5bc523",
   "metadata": {},
   "outputs": [],
   "source": [
    "registro.head()"
   ]
  },
  {
   "cell_type": "markdown",
   "id": "3ad7bafa",
   "metadata": {},
   "source": [
    "## Filtros"
   ]
  },
  {
   "cell_type": "code",
   "execution_count": null,
   "id": "3393f4f9",
   "metadata": {},
   "outputs": [],
   "source": [
    "# Selecion de columnas\n",
    "celda = \"Pagado 💰📊\"\n",
    "total = registro[celda].sum()\n",
    "print(f\"El total {celda} es: {total}\")\n"
   ]
  }
 ],
 "metadata": {
  "kernelspec": {
   "display_name": "Python 3",
   "language": "python",
   "name": "python3"
  },
  "language_info": {
   "codemirror_mode": {
    "name": "ipython",
    "version": 3
   },
   "file_extension": ".py",
   "mimetype": "text/x-python",
   "name": "python",
   "nbconvert_exporter": "python",
   "pygments_lexer": "ipython3",
   "version": "3.13.3"
  }
 },
 "nbformat": 4,
 "nbformat_minor": 5
}

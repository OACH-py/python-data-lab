{
 "cells": [
  {
   "cell_type": "markdown",
   "id": "e3138157",
   "metadata": {},
   "source": [
    "# Importamos las librerias"
   ]
  },
  {
   "cell_type": "code",
   "execution_count": 5,
   "id": "cbe3e3e4",
   "metadata": {},
   "outputs": [],
   "source": [
    "import pandas as pd\n",
    "import numpy as np\n",
    "import matplotlib as plt"
   ]
  },
  {
   "cell_type": "markdown",
   "id": "5b2cf95c",
   "metadata": {},
   "source": [
    "## Importamos el csv"
   ]
  },
  {
   "cell_type": "code",
   "execution_count": 9,
   "id": "b2b85d19",
   "metadata": {},
   "outputs": [],
   "source": [
    "registro = pd.read_csv('Registro.csv')\n"
   ]
  },
  {
   "cell_type": "markdown",
   "id": "c55621ee",
   "metadata": {},
   "source": [
    "## Exploramos datos dentro de csv"
   ]
  },
  {
   "cell_type": "code",
   "execution_count": null,
   "id": "4e5bc523",
   "metadata": {},
   "outputs": [
    {
     "ename": "TypeError",
     "evalue": "pandas.core.generic.NDFrame.head() argument after * must be an iterable, not int",
     "output_type": "error",
     "traceback": [
      "\u001b[31m---------------------------------------------------------------------------\u001b[39m",
      "\u001b[31mTypeError\u001b[39m                                 Traceback (most recent call last)",
      "\u001b[36mCell\u001b[39m\u001b[36m \u001b[39m\u001b[32mIn[13]\u001b[39m\u001b[32m, line 1\u001b[39m\n\u001b[32m----> \u001b[39m\u001b[32m1\u001b[39m \u001b[43mregistro\u001b[49m\u001b[43m.\u001b[49m\u001b[43mhead\u001b[49m\u001b[43m(\u001b[49m\u001b[43m*\u001b[49m\u001b[32;43m10\u001b[39;49m\u001b[43m)\u001b[49m\n",
      "\u001b[31mTypeError\u001b[39m: pandas.core.generic.NDFrame.head() argument after * must be an iterable, not int"
     ]
    }
   ],
   "source": [
    "registro.head()"
   ]
  }
 ],
 "metadata": {
  "kernelspec": {
   "display_name": "Python 3",
   "language": "python",
   "name": "python3"
  },
  "language_info": {
   "codemirror_mode": {
    "name": "ipython",
    "version": 3
   },
   "file_extension": ".py",
   "mimetype": "text/x-python",
   "name": "python",
   "nbconvert_exporter": "python",
   "pygments_lexer": "ipython3",
   "version": "3.13.3"
  }
 },
 "nbformat": 4,
 "nbformat_minor": 5
}

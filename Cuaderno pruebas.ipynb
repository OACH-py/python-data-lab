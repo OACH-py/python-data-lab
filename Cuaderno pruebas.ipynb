{
 "cells": [
  {
   "cell_type": "markdown",
   "id": "e3138157",
   "metadata": {},
   "source": [
    "# Importamos las librerias"
   ]
  },
  {
   "cell_type": "code",
   "execution_count": 2,
   "id": "cbe3e3e4",
   "metadata": {},
   "outputs": [],
   "source": [
    "import pandas as pd\n",
    "import numpy as np\n",
    "import matplotlib as plt"
   ]
  },
  {
   "cell_type": "markdown",
   "id": "5b2cf95c",
   "metadata": {},
   "source": [
    "## Importamos el csv"
   ]
  },
  {
   "cell_type": "code",
   "execution_count": 3,
   "id": "b2b85d19",
   "metadata": {},
   "outputs": [],
   "source": [
    "registro = pd.read_csv('Registro.csv')\n"
   ]
  },
  {
   "cell_type": "markdown",
   "id": "c55621ee",
   "metadata": {},
   "source": [
    "## Exploramos datos dentro de csv"
   ]
  },
  {
   "cell_type": "code",
   "execution_count": 4,
   "id": "4e5bc523",
   "metadata": {},
   "outputs": [
    {
     "data": {
      "text/html": [
       "<div>\n",
       "<style scoped>\n",
       "    .dataframe tbody tr th:only-of-type {\n",
       "        vertical-align: middle;\n",
       "    }\n",
       "\n",
       "    .dataframe tbody tr th {\n",
       "        vertical-align: top;\n",
       "    }\n",
       "\n",
       "    .dataframe thead th {\n",
       "        text-align: right;\n",
       "    }\n",
       "</style>\n",
       "<table border=\"1\" class=\"dataframe\">\n",
       "  <thead>\n",
       "    <tr style=\"text-align: right;\">\n",
       "      <th></th>\n",
       "      <th>#️⃣Número de Control</th>\n",
       "      <th>👨‍👦Apellido Paterno</th>\n",
       "      <th>👩‍👦Apellido Materno</th>\n",
       "      <th>🧑Nombre(s)</th>\n",
       "      <th>Pagado 💰📊</th>\n",
       "      <th>Pago Pendiente 💰⏳</th>\n",
       "    </tr>\n",
       "  </thead>\n",
       "  <tbody>\n",
       "    <tr>\n",
       "      <th>0</th>\n",
       "      <td>ALVAREZ-SA001</td>\n",
       "      <td>Alvarez</td>\n",
       "      <td>Sifuentes</td>\n",
       "      <td>Angel Manuel</td>\n",
       "      <td>$ 500.00</td>\n",
       "      <td>$ 700.00</td>\n",
       "    </tr>\n",
       "    <tr>\n",
       "      <th>1</th>\n",
       "      <td>ARGÜELLES -ME002</td>\n",
       "      <td>Argüelles</td>\n",
       "      <td>Macías</td>\n",
       "      <td>Eduardo Alberto</td>\n",
       "      <td>$ 200.00</td>\n",
       "      <td>$ 1,000.00</td>\n",
       "    </tr>\n",
       "    <tr>\n",
       "      <th>2</th>\n",
       "      <td>ARREOLA-RF003</td>\n",
       "      <td>Arreola</td>\n",
       "      <td>Rocha</td>\n",
       "      <td>Fernando</td>\n",
       "      <td>$ 805.00</td>\n",
       "      <td>$ 395.00</td>\n",
       "    </tr>\n",
       "    <tr>\n",
       "      <th>3</th>\n",
       "      <td>BETANCOURT -MG004</td>\n",
       "      <td>Betancourt</td>\n",
       "      <td>Marroquín</td>\n",
       "      <td>Gael Abisaí</td>\n",
       "      <td>$ 300.00</td>\n",
       "      <td>$ 900.00</td>\n",
       "    </tr>\n",
       "    <tr>\n",
       "      <th>4</th>\n",
       "      <td>CALDERÓN -BD005</td>\n",
       "      <td>Calderón</td>\n",
       "      <td>Buendía</td>\n",
       "      <td>Daniel</td>\n",
       "      <td>$ 100.00</td>\n",
       "      <td>$ 1,100.00</td>\n",
       "    </tr>\n",
       "  </tbody>\n",
       "</table>\n",
       "</div>"
      ],
      "text/plain": [
       "  #️⃣Número de Control 👨‍👦Apellido Paterno 👩‍👦Apellido Materno  \\\n",
       "0        ALVAREZ-SA001             Alvarez          Sifuentes    \n",
       "1     ARGÜELLES -ME002          Argüelles              Macías    \n",
       "2        ARREOLA-RF003             Arreola               Rocha   \n",
       "3    BETANCOURT -MG004         Betancourt           Marroquín    \n",
       "4      CALDERÓN -BD005           Calderón             Buendía    \n",
       "\n",
       "         🧑Nombre(s)   Pagado 💰📊 Pago Pendiente 💰⏳  \n",
       "0     Angel Manuel    $ 500.00          $ 700.00   \n",
       "1  Eduardo Alberto    $ 200.00        $ 1,000.00   \n",
       "2         Fernando    $ 805.00          $ 395.00   \n",
       "3      Gael Abisaí    $ 300.00          $ 900.00   \n",
       "4           Daniel    $ 100.00        $ 1,100.00   "
      ]
     },
     "execution_count": 4,
     "metadata": {},
     "output_type": "execute_result"
    }
   ],
   "source": [
    "registro.head()"
   ]
  },
  {
   "cell_type": "markdown",
   "id": "3ad7bafa",
   "metadata": {},
   "source": [
    "## Filtros"
   ]
  },
  {
   "cell_type": "code",
   "execution_count": 12,
   "id": "3393f4f9",
   "metadata": {},
   "outputs": [
    {
     "name": "stdout",
     "output_type": "stream",
     "text": [
      "El total Pagado 💰📊 es:  $ 500.00  $ 200.00  $ 805.00  $ 300.00  $ 100.00  $ 100.00  $ 200.00  $ 500.00  $ 100.00  $ 705.00  $ 500.00  $ 820.00  $ 820.00  $ 300.00  $ 100.00  $ 1,000.00  $ 100.00  $ 100.00  $ 600.00  $ 100.00  $ 300.00  $ 455.00  $ 100.00  $ 870.00  $ 500.00  $ 100.00  $ 100.00  $ 700.00  $ 205.00  $ 1,000.00  $ 100.00  $ 500.00  $ 100.00  $ 450.00  $ 200.00  $ 13,630.00 \n"
     ]
    }
   ],
   "source": [
    "# Selecion de columnas\n",
    "celda = \"Pagado 💰📊\"\n",
    "total = registro[celda].sum()\n",
    "print(f\"El total {celda} es: {total}\")\n"
   ]
  }
 ],
 "metadata": {
  "kernelspec": {
   "display_name": "Python 3",
   "language": "python",
   "name": "python3"
  },
  "language_info": {
   "codemirror_mode": {
    "name": "ipython",
    "version": 3
   },
   "file_extension": ".py",
   "mimetype": "text/x-python",
   "name": "python",
   "nbconvert_exporter": "python",
   "pygments_lexer": "ipython3",
   "version": "3.13.3"
  }
 },
 "nbformat": 4,
 "nbformat_minor": 5
}
